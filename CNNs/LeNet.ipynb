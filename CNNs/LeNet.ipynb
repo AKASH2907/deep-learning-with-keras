{
 "cells": [
  {
   "cell_type": "code",
   "execution_count": 1,
   "metadata": {},
   "outputs": [
    {
     "name": "stderr",
     "output_type": "stream",
     "text": [
      "Using TensorFlow backend.\n"
     ]
    }
   ],
   "source": [
    "from keras import backend as K\n",
    "from keras.models import Sequential\n",
    "from keras.layers.convolutional import Conv2D, MaxPooling2D\n",
    "from keras.layers.core import Activation, Flatten, Dense\n",
    "from keras.layers import Input\n",
    "from keras.datasets import mnist\n",
    "from keras.utils import np_utils\n",
    "from keras.optimizers import SGD, RMSprop, Adam\n",
    "import numpy as np\n",
    "import matplotlib.pyplot as plt\n",
    "from keras.models import Model"
   ]
  },
  {
   "cell_type": "code",
   "execution_count": 2,
   "metadata": {},
   "outputs": [],
   "source": [
    "# network and training\n",
    "NB_EPOCH = 20\n",
    "BATCH_SIZE = 128\n",
    "VERBOSE = 1\n",
    "OPTIMIZER = Adam()\n",
    "VALIDATION_SPLIT=0.2\n",
    "IMG_ROWS, IMG_COLS = 28, 28 # input image dimensions\n",
    "NB_CLASSES = 10 # number of outputs = number of digits\n",
    "INPUT_SHAPE = (IMG_ROWS, IMG_COLS, 1)\n",
    "#define the ConvNet\n"
   ]
  },
  {
   "cell_type": "code",
   "execution_count": 3,
   "metadata": {},
   "outputs": [],
   "source": [
    "\n",
    "def build(input_shape, classes):\n",
    "    # CONV => RELU => POOL\n",
    "    inp = Input(shape=(input_shape))\n",
    "    x = Conv2D(20, (3, 3), padding=\"same\",activation = 'relu')(inp)\n",
    "    p1 = MaxPooling2D(pool_size=(2, 2), strides=(2, 2))(x)\n",
    "    # CONV => RELU => POOL\n",
    "    l2 = Conv2D(50, (3, 3),activation = 'relu')(p1)\n",
    "    p2 = MaxPooling2D(pool_size=(2, 2), strides=(2, 2))(l2)\n",
    "    # Flatten => RELU layers\n",
    "    f = Flatten()(p2)\n",
    "    d1 = Dense(500,activation = 'relu')(f)\n",
    "    # a softmax classifier\n",
    "    output = Dense(classes, activation='softmax')(d1)\n",
    "    model = Model(inputs=inp, outputs=output)\n",
    "    model.compile(loss=\"categorical_crossentropy\", optimizer=OPTIMIZER, metrics=[\"accuracy\"])\n",
    "\n",
    "    return model"
   ]
  },
  {
   "cell_type": "code",
   "execution_count": 4,
   "metadata": {},
   "outputs": [
    {
     "name": "stdout",
     "output_type": "stream",
     "text": [
      "(60000, 28, 28, 1)\n",
      "60000 train samples\n",
      "10000 test samples\n"
     ]
    }
   ],
   "source": [
    "# data: shuffled and split between train and test sets\n",
    "(X_train, y_train), (X_test, y_test) = mnist.load_data()\n",
    "# k.set_image_dim_ordering(\"th\")\n",
    "# consider them as float and normalize\n",
    "X_train = X_train.astype('float32')\n",
    "X_test = X_test.astype('float32')\n",
    "X_train /= 255\n",
    "X_test /= 255\n",
    "# we need a 60K x [1 x 28 x 28] shape as input to the CONVNET\n",
    "X_train = X_train[:, :, :, np.newaxis]\n",
    "print(X_train.shape)\n",
    "X_test = X_test[:,:, :,  np.newaxis]\n",
    "print(X_train.shape[0], 'train samples')\n",
    "print(X_test.shape[0], 'test samples')\n",
    "# convert class vectors to binary class matrices\n",
    "y_train = np_utils.to_categorical(y_train, NB_CLASSES)\n",
    "y_test = np_utils.to_categorical(y_test, NB_CLASSES)"
   ]
  },
  {
   "cell_type": "code",
   "execution_count": 5,
   "metadata": {},
   "outputs": [
    {
     "name": "stdout",
     "output_type": "stream",
     "text": [
      "Train on 48000 samples, validate on 12000 samples\n",
      "Epoch 1/20\n",
      "48000/48000 [==============================] - 51s 1ms/step - loss: 0.2127 - acc: 0.9354 - val_loss: 0.0620 - val_acc: 0.9799\n",
      "Epoch 2/20\n",
      "48000/48000 [==============================] - 51s 1ms/step - loss: 0.0554 - acc: 0.9826 - val_loss: 0.0472 - val_acc: 0.9854\n",
      "Epoch 3/20\n",
      "48000/48000 [==============================] - 46s 957us/step - loss: 0.0350 - acc: 0.9891 - val_loss: 0.0442 - val_acc: 0.9877\n",
      "Epoch 4/20\n",
      "48000/48000 [==============================] - 48s 1ms/step - loss: 0.0251 - acc: 0.9919 - val_loss: 0.0360 - val_acc: 0.9892\n",
      "Epoch 5/20\n",
      "48000/48000 [==============================] - 47s 980us/step - loss: 0.0195 - acc: 0.9935 - val_loss: 0.0348 - val_acc: 0.9901\n",
      "Epoch 6/20\n",
      "48000/48000 [==============================] - 46s 952us/step - loss: 0.0147 - acc: 0.9952 - val_loss: 0.0328 - val_acc: 0.9900\n",
      "Epoch 7/20\n",
      "48000/48000 [==============================] - 48s 993us/step - loss: 0.0102 - acc: 0.9965 - val_loss: 0.0404 - val_acc: 0.9894\n",
      "Epoch 8/20\n",
      "48000/48000 [==============================] - 49s 1ms/step - loss: 0.0082 - acc: 0.9972 - val_loss: 0.0325 - val_acc: 0.9910\n",
      "Epoch 9/20\n",
      "48000/48000 [==============================] - 47s 972us/step - loss: 0.0077 - acc: 0.9975 - val_loss: 0.0381 - val_acc: 0.9906\n",
      "Epoch 10/20\n",
      "48000/48000 [==============================] - 48s 1ms/step - loss: 0.0052 - acc: 0.9984 - val_loss: 0.0410 - val_acc: 0.9896\n",
      "Epoch 11/20\n",
      "48000/48000 [==============================] - 47s 975us/step - loss: 0.0063 - acc: 0.9979 - val_loss: 0.0387 - val_acc: 0.9907\n",
      "Epoch 12/20\n",
      "48000/48000 [==============================] - 48s 1ms/step - loss: 0.0055 - acc: 0.9980 - val_loss: 0.0370 - val_acc: 0.9913\n",
      "Epoch 13/20\n",
      "48000/48000 [==============================] - 49s 1ms/step - loss: 0.0055 - acc: 0.9983 - val_loss: 0.0447 - val_acc: 0.9902\n",
      "Epoch 14/20\n",
      "48000/48000 [==============================] - 48s 999us/step - loss: 0.0032 - acc: 0.9990 - val_loss: 0.0487 - val_acc: 0.9894\n",
      "Epoch 15/20\n",
      "48000/48000 [==============================] - 47s 987us/step - loss: 0.0016 - acc: 0.9996 - val_loss: 0.0414 - val_acc: 0.9915\n",
      "Epoch 16/20\n",
      "48000/48000 [==============================] - 48s 990us/step - loss: 0.0041 - acc: 0.9985 - val_loss: 0.0535 - val_acc: 0.9893\n",
      "Epoch 17/20\n",
      "48000/48000 [==============================] - 48s 997us/step - loss: 0.0076 - acc: 0.9974 - val_loss: 0.0416 - val_acc: 0.9907\n",
      "Epoch 18/20\n",
      "48000/48000 [==============================] - 48s 997us/step - loss: 0.0023 - acc: 0.9993 - val_loss: 0.0400 - val_acc: 0.9917\n",
      "Epoch 19/20\n",
      "48000/48000 [==============================] - 45s 942us/step - loss: 0.0030 - acc: 0.9990 - val_loss: 0.0435 - val_acc: 0.9911\n",
      "Epoch 20/20\n",
      "48000/48000 [==============================] - 49s 1ms/step - loss: 0.0012 - acc: 0.9995 - val_loss: 0.0393 - val_acc: 0.9921\n"
     ]
    }
   ],
   "source": [
    "# initialize the optimizer and model\n",
    "model = build(input_shape=INPUT_SHAPE, classes=NB_CLASSES)\n",
    "\n",
    "history = model.fit(X_train, y_train, batch_size=BATCH_SIZE, epochs=NB_EPOCH, verbose=VERBOSE, validation_split=VALIDATION_SPLIT)"
   ]
  },
  {
   "cell_type": "code",
   "execution_count": 6,
   "metadata": {},
   "outputs": [
    {
     "name": "stdout",
     "output_type": "stream",
     "text": [
      "10000/10000 [==============================] - 4s 362us/step\n",
      "Test score: 0.035850093289828695\n",
      "Test accuracy: 0.9925\n"
     ]
    }
   ],
   "source": [
    "score = model.evaluate(X_test, y_test, verbose=VERBOSE)\n",
    "print(\"Test score:\", score[0])\n",
    "print('Test accuracy:', score[1])"
   ]
  },
  {
   "cell_type": "code",
   "execution_count": 11,
   "metadata": {},
   "outputs": [
    {
     "name": "stdout",
     "output_type": "stream",
     "text": [
      "dict_keys(['val_loss', 'val_acc', 'loss', 'acc'])\n"
     ]
    },
    {
     "data": {
      "image/png": "[encoded data removed]",
      "text/plain": [
       "<Figure size 432x288 with 1 Axes>"
      ]
     },
     "metadata": {},
     "output_type": "display_data"
    },
    {
     "data": {
      "text/plain": [
       "<Figure size 432x288 with 0 Axes>"
      ]
     },
     "metadata": {},
     "output_type": "display_data"
    }
   ],
   "source": [
    "# list all data in history\n",
    "print(history.history.keys())\n",
    "# summarize history for accuracy\n",
    "plt.plot(history.history['acc'])\n",
    "plt.plot(history.history['val_acc'])\n",
    "plt.title('model accuracy')\n",
    "plt.ylabel('accuracy')\n",
    "plt.xlabel('epoch')\n",
    "plt.legend(['train', 'test'], loc='upper left')\n",
    "plt.show()\n",
    "\n",
    "from pylab import savefig\n",
    "savefig('val_acc.png', bbox_inches='tight')"
   ]
  },
  {
   "cell_type": "code",
   "execution_count": 8,
   "metadata": {},
   "outputs": [
    {
     "data": {
      "image/png": "[encoded data removed]",
      "text/plain": [
       "<Figure size 432x288 with 1 Axes>"
      ]
     },
     "metadata": {},
     "output_type": "display_data"
    }
   ],
   "source": [
    "# summarize history for loss\n",
    "plt.plot(history.history['loss'])\n",
    "plt.plot(history.history['val_loss'])\n",
    "plt.title('model loss')\n",
    "plt.ylabel('loss')\n",
    "plt.xlabel('epoch')\n",
    "plt.legend(['train', 'test'], loc='upper left')\n",
    "plt.show()"
   ]
  },
  {
   "cell_type": "code",
   "execution_count": null,
   "metadata": {},
   "outputs": [],
   "source": []
  }
 ],
 "metadata": {
  "kernelspec": {
   "display_name": "Python 3",
   "language": "python",
   "name": "python3"
  },
  "language_info": {
   "codemirror_mode": {
    "name": "ipython",
    "version": 3
   },
   "file_extension": ".py",
   "mimetype": "text/x-python",
   "name": "python",
   "nbconvert_exporter": "python",
   "pygments_lexer": "ipython3",
   "version": "3.6.4"
  }
 },
 "nbformat": 4,
 "nbformat_minor": 2
}
