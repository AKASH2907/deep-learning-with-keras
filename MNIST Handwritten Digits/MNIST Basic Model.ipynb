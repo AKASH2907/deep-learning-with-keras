{
 "cells": [
  {
   "cell_type": "code",
   "execution_count": 1,
   "metadata": {},
   "outputs": [
    {
     "name": "stderr",
     "output_type": "stream",
     "text": [
      "Using TensorFlow backend.\n"
     ]
    }
   ],
   "source": [
    "from __future__ import print_function\n",
    "import numpy as np\n",
    "from keras.datasets import mnist\n",
    "from keras.models import Sequential\n",
    "from keras.layers.core import Dense, Activation\n",
    "from keras.optimizers import SGD\n",
    "from keras.utils import np_utils"
   ]
  },
  {
   "cell_type": "code",
   "execution_count": 2,
   "metadata": {},
   "outputs": [],
   "source": [
    "np.random.seed(1600)"
   ]
  },
  {
   "cell_type": "code",
   "execution_count": 3,
   "metadata": {},
   "outputs": [],
   "source": [
    "N_EPOCHS = 20\n",
    "BATCH_SIZE = 128\n",
    "VERBOSE = 1\n",
    "N_CLASSES = 10 # number of output classes\n",
    "OPTIMIZER = SGD()\n",
    "VALIDATION_SPLIT = 0.2"
   ]
  },
  {
   "cell_type": "code",
   "execution_count": 4,
   "metadata": {},
   "outputs": [
    {
     "name": "stdout",
     "output_type": "stream",
     "text": [
      "60000 train samples\n",
      "10000 test samples\n"
     ]
    }
   ],
   "source": [
    "# Splitting of dataset between training and testing\n",
    "(X_train, y_train), (X_test, y_test) = mnist.load_data()\n",
    "\n",
    "#X_train is 60000 rows of 28x28 values --> reshaped in 60000 x 784\n",
    "RESHAPED = 784\n",
    "\n",
    "X_train = X_train.reshape(60000, RESHAPED)\n",
    "X_test = X_test.reshape(10000, RESHAPED)\n",
    "X_train = X_train.astype('float32')\n",
    "X_test = X_test.astype('float32')\n",
    "\n",
    "# normaize the dataset\n",
    "X_train /= 255\n",
    "X_test /= 255\n",
    "print(X_train.shape[0], 'train samples')\n",
    "print(X_test.shape[0], 'test samples')\n",
    "\n",
    "# convert class vectors to binary class matrices\n",
    "Y_train = np_utils.to_categorical(y_train, N_CLASSES)\n",
    "Y_test = np_utils.to_categorical(y_test, N_CLASSES)"
   ]
  },
  {
   "cell_type": "code",
   "execution_count": 5,
   "metadata": {},
   "outputs": [
    {
     "name": "stdout",
     "output_type": "stream",
     "text": [
      "_________________________________________________________________\n",
      "Layer (type)                 Output Shape              Param #   \n",
      "=================================================================\n",
      "dense_1 (Dense)              (None, 10)                7850      \n",
      "_________________________________________________________________\n",
      "activation_1 (Activation)    (None, 10)                0         \n",
      "=================================================================\n",
      "Total params: 7,850\n",
      "Trainable params: 7,850\n",
      "Non-trainable params: 0\n",
      "_________________________________________________________________\n"
     ]
    }
   ],
   "source": [
    "model = Sequential()\n",
    "model.add(Dense(N_CLASSES, input_shape=(RESHAPED,)))\n",
    "model.add(Activation('softmax'))\n",
    "model.summary()"
   ]
  },
  {
   "cell_type": "code",
   "execution_count": 6,
   "metadata": {},
   "outputs": [
    {
     "name": "stdout",
     "output_type": "stream",
     "text": [
      "Train on 48000 samples, validate on 12000 samples\n",
      "Epoch 1/20\n",
      "48000/48000 [==============================] - 1s 25us/step - loss: 1.3620 - acc: 0.6672 - val_loss: 0.8955 - val_acc: 0.8205\n",
      "Epoch 2/20\n",
      "48000/48000 [==============================] - 1s 23us/step - loss: 0.7930 - acc: 0.8261 - val_loss: 0.6581 - val_acc: 0.8554\n",
      "Epoch 3/20\n",
      "48000/48000 [==============================] - 1s 23us/step - loss: 0.6432 - acc: 0.8503 - val_loss: 0.5621 - val_acc: 0.8702\n",
      "Epoch 4/20\n",
      "48000/48000 [==============================] - 1s 23us/step - loss: 0.5706 - acc: 0.8619 - val_loss: 0.5085 - val_acc: 0.8793\n",
      "Epoch 5/20\n",
      "48000/48000 [==============================] - 1s 25us/step - loss: 0.5265 - acc: 0.8691 - val_loss: 0.4742 - val_acc: 0.8832\n",
      "Epoch 6/20\n",
      "48000/48000 [==============================] - 1s 27us/step - loss: 0.4962 - acc: 0.8741 - val_loss: 0.4500 - val_acc: 0.8870\n",
      "Epoch 7/20\n",
      "48000/48000 [==============================] - 1s 21us/step - loss: 0.4738 - acc: 0.8783 - val_loss: 0.4318 - val_acc: 0.8901\n",
      "Epoch 8/20\n",
      "48000/48000 [==============================] - 1s 22us/step - loss: 0.4564 - acc: 0.8807 - val_loss: 0.4175 - val_acc: 0.8932\n",
      "Epoch 9/20\n",
      "48000/48000 [==============================] - 1s 22us/step - loss: 0.4425 - acc: 0.8831 - val_loss: 0.4060 - val_acc: 0.8952\n",
      "Epoch 10/20\n",
      "48000/48000 [==============================] - 1s 25us/step - loss: 0.4309 - acc: 0.8853 - val_loss: 0.3965 - val_acc: 0.8970\n",
      "Epoch 11/20\n",
      "48000/48000 [==============================] - 1s 24us/step - loss: 0.4212 - acc: 0.8874 - val_loss: 0.3883 - val_acc: 0.8988\n",
      "Epoch 12/20\n",
      "48000/48000 [==============================] - 1s 25us/step - loss: 0.4128 - acc: 0.8890 - val_loss: 0.3813 - val_acc: 0.8999\n",
      "Epoch 13/20\n",
      "48000/48000 [==============================] - 1s 25us/step - loss: 0.4054 - acc: 0.8909 - val_loss: 0.3753 - val_acc: 0.9007\n",
      "Epoch 14/20\n",
      "48000/48000 [==============================] - 1s 24us/step - loss: 0.3989 - acc: 0.8921 - val_loss: 0.3701 - val_acc: 0.9014\n",
      "Epoch 15/20\n",
      "48000/48000 [==============================] - 1s 24us/step - loss: 0.3932 - acc: 0.8936 - val_loss: 0.3651 - val_acc: 0.9038\n",
      "Epoch 16/20\n",
      "48000/48000 [==============================] - 1s 24us/step - loss: 0.3880 - acc: 0.8946 - val_loss: 0.3610 - val_acc: 0.9037\n",
      "Epoch 17/20\n",
      "48000/48000 [==============================] - 1s 24us/step - loss: 0.3833 - acc: 0.8954 - val_loss: 0.3571 - val_acc: 0.9046\n",
      "Epoch 18/20\n",
      "48000/48000 [==============================] - 1s 24us/step - loss: 0.3791 - acc: 0.8963 - val_loss: 0.3535 - val_acc: 0.9055\n",
      "Epoch 19/20\n",
      "48000/48000 [==============================] - 1s 23us/step - loss: 0.3752 - acc: 0.8968 - val_loss: 0.3502 - val_acc: 0.9062\n",
      "Epoch 20/20\n",
      "48000/48000 [==============================] - 1s 23us/step - loss: 0.3716 - acc: 0.8977 - val_loss: 0.3473 - val_acc: 0.9067\n"
     ]
    }
   ],
   "source": [
    "model.compile(loss='categorical_crossentropy', optimizer=OPTIMIZER, metrics=['accuracy'])\n",
    "history = model.fit(X_train, Y_train,\n",
    "batch_size=BATCH_SIZE, epochs=N_EPOCHS,\n",
    "verbose=VERBOSE, validation_split=VALIDATION_SPLIT)"
   ]
  },
  {
   "cell_type": "code",
   "execution_count": 7,
   "metadata": {},
   "outputs": [
    {
     "name": "stdout",
     "output_type": "stream",
     "text": [
      "10000/10000 [==============================] - 0s 33us/step\n",
      "Test score: 0.34844693349599837\n",
      "Test accuracy: 0.9059\n"
     ]
    }
   ],
   "source": [
    "score = model.evaluate(X_test, Y_test, verbose=VERBOSE)\n",
    "print(\"Test score:\", score[0])\n",
    "print('Test accuracy:', score[1])"
   ]
  },
  {
   "cell_type": "code",
   "execution_count": null,
   "metadata": {},
   "outputs": [],
   "source": []
  }
 ],
 "metadata": {
  "kernelspec": {
   "display_name": "Python 3",
   "language": "python",
   "name": "python3"
  },
  "language_info": {
   "codemirror_mode": {
    "name": "ipython",
    "version": 3
   },
   "file_extension": ".py",
   "mimetype": "text/x-python",
   "name": "python",
   "nbconvert_exporter": "python",
   "pygments_lexer": "ipython3",
   "version": "3.6.4"
  }
 },
 "nbformat": 4,
 "nbformat_minor": 2
}
