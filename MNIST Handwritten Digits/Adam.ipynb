{
 "cells": [
  {
   "cell_type": "code",
   "execution_count": 1,
   "metadata": {},
   "outputs": [
    {
     "name": "stderr",
     "output_type": "stream",
     "text": [
      "Using TensorFlow backend.\n"
     ]
    }
   ],
   "source": [
    "from __future__ import print_function\n",
    "import numpy as np\n",
    "from keras.datasets import mnist\n",
    "from keras.models import Sequential\n",
    "from keras.layers.core import Dense, Activation\n",
    "from keras.optimizers import SGD, Adam\n",
    "from keras.utils import np_utils"
   ]
  },
  {
   "cell_type": "code",
   "execution_count": 2,
   "metadata": {},
   "outputs": [],
   "source": [
    "np.random.seed(1600)"
   ]
  },
  {
   "cell_type": "code",
   "execution_count": 3,
   "metadata": {},
   "outputs": [],
   "source": [
    "N_EPOCHS = 20\n",
    "BATCH_SIZE = 128\n",
    "VERBOSE = 1\n",
    "N_CLASSES = 10 # number of output classes\n",
    "OPTIMIZER = Adam()\n",
    "N_HIDDEN = 128\n",
    "VALIDATION_SPLIT = 0.2"
   ]
  },
  {
   "cell_type": "code",
   "execution_count": 4,
   "metadata": {},
   "outputs": [
    {
     "name": "stdout",
     "output_type": "stream",
     "text": [
      "60000 train samples\n",
      "10000 test samples\n"
     ]
    }
   ],
   "source": [
    "# Splitting of dataset between training and testing\n",
    "(X_train, y_train), (X_test, y_test) = mnist.load_data()\n",
    "\n",
    "#X_train is 60000 rows of 28x28 values --> reshaped in 60000 x 784\n",
    "RESHAPED = 784\n",
    "\n",
    "X_train = X_train.reshape(60000, RESHAPED)\n",
    "X_test = X_test.reshape(10000, RESHAPED)\n",
    "X_train = X_train.astype('float32')\n",
    "X_test = X_test.astype('float32')\n",
    "\n",
    "# normaize the dataset\n",
    "X_train /= 255\n",
    "X_test /= 255\n",
    "print(X_train.shape[0], 'train samples')\n",
    "print(X_test.shape[0], 'test samples')\n",
    "\n",
    "# convert class vectors to binary class matrices\n",
    "Y_train = np_utils.to_categorical(y_train, N_CLASSES)\n",
    "Y_test = np_utils.to_categorical(y_test, N_CLASSES)"
   ]
  },
  {
   "cell_type": "code",
   "execution_count": 5,
   "metadata": {},
   "outputs": [
    {
     "name": "stdout",
     "output_type": "stream",
     "text": [
      "_________________________________________________________________\n",
      "Layer (type)                 Output Shape              Param #   \n",
      "=================================================================\n",
      "dense_1 (Dense)              (None, 128)               100480    \n",
      "_________________________________________________________________\n",
      "activation_1 (Activation)    (None, 128)               0         \n",
      "_________________________________________________________________\n",
      "dense_2 (Dense)              (None, 10)                1290      \n",
      "_________________________________________________________________\n",
      "activation_2 (Activation)    (None, 10)                0         \n",
      "_________________________________________________________________\n",
      "activation_3 (Activation)    (None, 10)                0         \n",
      "=================================================================\n",
      "Total params: 101,770\n",
      "Trainable params: 101,770\n",
      "Non-trainable params: 0\n",
      "_________________________________________________________________\n"
     ]
    }
   ],
   "source": [
    "model = Sequential()\n",
    "model.add(Dense(N_HIDDEN, input_shape= (RESHAPED,)))\n",
    "model.add(Activation('relu'))\n",
    "model.add(Dense(N_CLASSES))\n",
    "model.add(Activation('relu'))\n",
    "model.add(Activation('softmax'))\n",
    "model.summary()"
   ]
  },
  {
   "cell_type": "code",
   "execution_count": 6,
   "metadata": {},
   "outputs": [
    {
     "name": "stdout",
     "output_type": "stream",
     "text": [
      "Train on 48000 samples, validate on 12000 samples\n",
      "Epoch 1/20\n",
      "48000/48000 [==============================] - 2s 50us/step - loss: 0.4165 - acc: 0.8838 - val_loss: 0.2128 - val_acc: 0.9401\n",
      "Epoch 2/20\n",
      "48000/48000 [==============================] - 2s 42us/step - loss: 0.1885 - acc: 0.9461 - val_loss: 0.1631 - val_acc: 0.9538\n",
      "Epoch 3/20\n",
      "48000/48000 [==============================] - 2s 43us/step - loss: 0.1393 - acc: 0.9600 - val_loss: 0.1333 - val_acc: 0.9617\n",
      "Epoch 4/20\n",
      "48000/48000 [==============================] - 2s 43us/step - loss: 0.1100 - acc: 0.9687 - val_loss: 0.1164 - val_acc: 0.9655\n",
      "Epoch 5/20\n",
      "48000/48000 [==============================] - 2s 47us/step - loss: 0.0891 - acc: 0.9740 - val_loss: 0.1063 - val_acc: 0.9695\n",
      "Epoch 6/20\n",
      "48000/48000 [==============================] - 2s 40us/step - loss: 0.0742 - acc: 0.9789 - val_loss: 0.0975 - val_acc: 0.9703\n",
      "Epoch 7/20\n",
      "48000/48000 [==============================] - 2s 42us/step - loss: 0.0626 - acc: 0.9822 - val_loss: 0.0957 - val_acc: 0.9720\n",
      "Epoch 8/20\n",
      "48000/48000 [==============================] - 2s 42us/step - loss: 0.0541 - acc: 0.9847 - val_loss: 0.0922 - val_acc: 0.9726\n",
      "Epoch 9/20\n",
      "48000/48000 [==============================] - 2s 36us/step - loss: 0.0460 - acc: 0.9874 - val_loss: 0.0880 - val_acc: 0.9733\n",
      "Epoch 10/20\n",
      "48000/48000 [==============================] - 2s 41us/step - loss: 0.0393 - acc: 0.9894 - val_loss: 0.0903 - val_acc: 0.9738\n",
      "Epoch 11/20\n",
      "48000/48000 [==============================] - 2s 40us/step - loss: 0.0337 - acc: 0.9917 - val_loss: 0.0878 - val_acc: 0.9732\n",
      "Epoch 12/20\n",
      "48000/48000 [==============================] - 2s 40us/step - loss: 0.0285 - acc: 0.9929 - val_loss: 0.0820 - val_acc: 0.9766\n",
      "Epoch 13/20\n",
      "48000/48000 [==============================] - 2s 42us/step - loss: 0.0244 - acc: 0.9940 - val_loss: 0.0829 - val_acc: 0.9750\n",
      "Epoch 14/20\n",
      "48000/48000 [==============================] - 2s 39us/step - loss: 0.0208 - acc: 0.9954 - val_loss: 0.0873 - val_acc: 0.9757\n",
      "Epoch 15/20\n",
      "48000/48000 [==============================] - 2s 44us/step - loss: 0.0184 - acc: 0.9960 - val_loss: 0.0822 - val_acc: 0.9760\n",
      "Epoch 16/20\n",
      "48000/48000 [==============================] - 2s 44us/step - loss: 0.0153 - acc: 0.9971 - val_loss: 0.0840 - val_acc: 0.9761\n",
      "Epoch 17/20\n",
      "48000/48000 [==============================] - 2s 44us/step - loss: 0.0134 - acc: 0.9977 - val_loss: 0.0858 - val_acc: 0.9766\n",
      "Epoch 18/20\n",
      "48000/48000 [==============================] - 2s 40us/step - loss: 0.0119 - acc: 0.9979 - val_loss: 0.0875 - val_acc: 0.9761\n",
      "Epoch 19/20\n",
      "48000/48000 [==============================] - 2s 42us/step - loss: 0.0096 - acc: 0.9987 - val_loss: 0.0857 - val_acc: 0.9776\n",
      "Epoch 20/20\n",
      "48000/48000 [==============================] - 2s 38us/step - loss: 0.0088 - acc: 0.9986 - val_loss: 0.0871 - val_acc: 0.9765\n"
     ]
    }
   ],
   "source": [
    "model.compile(loss='categorical_crossentropy', optimizer=OPTIMIZER, metrics=['accuracy'])\n",
    "history = model.fit(X_train, Y_train, batch_size=BATCH_SIZE, epochs=N_EPOCHS, verbose=VERBOSE, validation_split=VALIDATION_SPLIT)"
   ]
  },
  {
   "cell_type": "code",
   "execution_count": 7,
   "metadata": {},
   "outputs": [
    {
     "name": "stdout",
     "output_type": "stream",
     "text": [
      "10000/10000 [==============================] - 0s 43us/step\n",
      "Test score: 0.08217678530748672\n",
      "Test accuracy: 0.9784\n"
     ]
    }
   ],
   "source": [
    "score = model.evaluate(X_test, Y_test, verbose=VERBOSE)\n",
    "print(\"Test score:\", score[0])\n",
    "print('Test accuracy:', score[1])"
   ]
  },
  {
   "cell_type": "code",
   "execution_count": null,
   "metadata": {},
   "outputs": [],
   "source": []
  }
 ],
 "metadata": {
  "kernelspec": {
   "display_name": "Python 3",
   "language": "python",
   "name": "python3"
  },
  "language_info": {
   "codemirror_mode": {
    "name": "ipython",
    "version": 3
   },
   "file_extension": ".py",
   "mimetype": "text/x-python",
   "name": "python",
   "nbconvert_exporter": "python",
   "pygments_lexer": "ipython3",
   "version": "3.6.4"
  }
 },
 "nbformat": 4,
 "nbformat_minor": 2
}
