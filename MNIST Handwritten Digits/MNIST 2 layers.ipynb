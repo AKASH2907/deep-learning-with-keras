{
 "cells": [
  {
   "cell_type": "code",
   "execution_count": 1,
   "metadata": {},
   "outputs": [
    {
     "name": "stderr",
     "output_type": "stream",
     "text": [
      "Using TensorFlow backend.\n"
     ]
    }
   ],
   "source": [
    "from __future__ import print_function\n",
    "import numpy as np\n",
    "from keras.datasets import mnist\n",
    "from keras.models import Sequential\n",
    "from keras.layers.core import Dense, Activation\n",
    "from keras.optimizers import SGD\n",
    "from keras.utils import np_utils"
   ]
  },
  {
   "cell_type": "code",
   "execution_count": 2,
   "metadata": {},
   "outputs": [],
   "source": [
    "np.random.seed(1600)"
   ]
  },
  {
   "cell_type": "code",
   "execution_count": 3,
   "metadata": {},
   "outputs": [],
   "source": [
    "N_EPOCHS = 20\n",
    "BATCH_SIZE = 128\n",
    "VERBOSE = 1\n",
    "N_CLASSES = 10 # number of output classes\n",
    "OPTIMIZER = SGD()\n",
    "N_HIDDEN = 128\n",
    "VALIDATION_SPLIT = 0.2"
   ]
  },
  {
   "cell_type": "code",
   "execution_count": 4,
   "metadata": {},
   "outputs": [
    {
     "name": "stdout",
     "output_type": "stream",
     "text": [
      "60000 train samples\n",
      "10000 test samples\n"
     ]
    }
   ],
   "source": [
    "# Splitting of dataset between training and testing\n",
    "(X_train, y_train), (X_test, y_test) = mnist.load_data()\n",
    "\n",
    "#X_train is 60000 rows of 28x28 values --> reshaped in 60000 x 784\n",
    "RESHAPED = 784\n",
    "\n",
    "X_train = X_train.reshape(60000, RESHAPED)\n",
    "X_test = X_test.reshape(10000, RESHAPED)\n",
    "X_train = X_train.astype('float32')\n",
    "X_test = X_test.astype('float32')\n",
    "\n",
    "# normaize the dataset\n",
    "X_train /= 255\n",
    "X_test /= 255\n",
    "print(X_train.shape[0], 'train samples')\n",
    "print(X_test.shape[0], 'test samples')\n",
    "\n",
    "# convert class vectors to binary class matrices\n",
    "Y_train = np_utils.to_categorical(y_train, N_CLASSES)\n",
    "Y_test = np_utils.to_categorical(y_test, N_CLASSES)"
   ]
  },
  {
   "cell_type": "code",
   "execution_count": 5,
   "metadata": {},
   "outputs": [
    {
     "name": "stdout",
     "output_type": "stream",
     "text": [
      "_________________________________________________________________\n",
      "Layer (type)                 Output Shape              Param #   \n",
      "=================================================================\n",
      "dense_1 (Dense)              (None, 128)               100480    \n",
      "_________________________________________________________________\n",
      "activation_1 (Activation)    (None, 128)               0         \n",
      "_________________________________________________________________\n",
      "dense_2 (Dense)              (None, 10)                1290      \n",
      "_________________________________________________________________\n",
      "activation_2 (Activation)    (None, 10)                0         \n",
      "_________________________________________________________________\n",
      "activation_3 (Activation)    (None, 10)                0         \n",
      "=================================================================\n",
      "Total params: 101,770\n",
      "Trainable params: 101,770\n",
      "Non-trainable params: 0\n",
      "_________________________________________________________________\n"
     ]
    }
   ],
   "source": [
    "model = Sequential()\n",
    "model.add(Dense(N_HIDDEN, input_shape= (RESHAPED,)))\n",
    "model.add(Activation('relu'))\n",
    "model.add(Dense(N_CLASSES))\n",
    "model.add(Activation('relu'))\n",
    "model.add(Activation('softmax'))\n",
    "model.summary()"
   ]
  },
  {
   "cell_type": "code",
   "execution_count": 6,
   "metadata": {},
   "outputs": [
    {
     "name": "stdout",
     "output_type": "stream",
     "text": [
      "Train on 48000 samples, validate on 12000 samples\n",
      "Epoch 1/20\n",
      "48000/48000 [==============================] - 3s 58us/step - loss: 1.5462 - acc: 0.5852 - val_loss: 0.8357 - val_acc: 0.8393\n",
      "Epoch 2/20\n",
      "48000/48000 [==============================] - 2s 38us/step - loss: 0.6747 - acc: 0.8458 - val_loss: 0.5167 - val_acc: 0.8755\n",
      "Epoch 3/20\n",
      "48000/48000 [==============================] - 2s 42us/step - loss: 0.4997 - acc: 0.8744 - val_loss: 0.4254 - val_acc: 0.8912\n",
      "Epoch 4/20\n",
      "48000/48000 [==============================] - 2s 41us/step - loss: 0.4317 - acc: 0.8860 - val_loss: 0.3802 - val_acc: 0.9007\n",
      "Epoch 5/20\n",
      "48000/48000 [==============================] - 2s 41us/step - loss: 0.3936 - acc: 0.8934 - val_loss: 0.3530 - val_acc: 0.9052\n",
      "Epoch 6/20\n",
      "48000/48000 [==============================] - 2s 46us/step - loss: 0.3682 - acc: 0.8988 - val_loss: 0.3337 - val_acc: 0.9081\n",
      "Epoch 7/20\n",
      "48000/48000 [==============================] - 2s 49us/step - loss: 0.3496 - acc: 0.9034 - val_loss: 0.3199 - val_acc: 0.9109\n",
      "Epoch 8/20\n",
      "48000/48000 [==============================] - 2s 44us/step - loss: 0.3347 - acc: 0.9068 - val_loss: 0.3085 - val_acc: 0.9138\n",
      "Epoch 9/20\n",
      "48000/48000 [==============================] - 2s 44us/step - loss: 0.3226 - acc: 0.9095 - val_loss: 0.2990 - val_acc: 0.9168\n",
      "Epoch 10/20\n",
      "48000/48000 [==============================] - 3s 55us/step - loss: 0.3121 - acc: 0.9127 - val_loss: 0.2908 - val_acc: 0.9185\n",
      "Epoch 11/20\n",
      "48000/48000 [==============================] - 2s 48us/step - loss: 0.3031 - acc: 0.9149 - val_loss: 0.2831 - val_acc: 0.9202\n",
      "Epoch 12/20\n",
      "48000/48000 [==============================] - 2s 40us/step - loss: 0.2949 - acc: 0.9175 - val_loss: 0.2762 - val_acc: 0.9219\n",
      "Epoch 13/20\n",
      "48000/48000 [==============================] - 2s 42us/step - loss: 0.2875 - acc: 0.9192 - val_loss: 0.2703 - val_acc: 0.9243\n",
      "Epoch 14/20\n",
      "48000/48000 [==============================] - 2s 47us/step - loss: 0.2807 - acc: 0.9208 - val_loss: 0.2652 - val_acc: 0.9259\n",
      "Epoch 15/20\n",
      "48000/48000 [==============================] - 2s 45us/step - loss: 0.2744 - acc: 0.9227 - val_loss: 0.2598 - val_acc: 0.9273\n",
      "Epoch 16/20\n",
      "48000/48000 [==============================] - 2s 44us/step - loss: 0.2685 - acc: 0.9248 - val_loss: 0.2552 - val_acc: 0.9290\n",
      "Epoch 17/20\n",
      "48000/48000 [==============================] - 2s 42us/step - loss: 0.2631 - acc: 0.9262 - val_loss: 0.2509 - val_acc: 0.9308\n",
      "Epoch 18/20\n",
      "48000/48000 [==============================] - 2s 44us/step - loss: 0.2580 - acc: 0.9280 - val_loss: 0.2464 - val_acc: 0.9318\n",
      "Epoch 19/20\n",
      "48000/48000 [==============================] - 2s 41us/step - loss: 0.2529 - acc: 0.9298 - val_loss: 0.2422 - val_acc: 0.9328\n",
      "Epoch 20/20\n",
      "48000/48000 [==============================] - 2s 41us/step - loss: 0.2483 - acc: 0.9305 - val_loss: 0.2383 - val_acc: 0.9337\n"
     ]
    }
   ],
   "source": [
    "model.compile(loss='categorical_crossentropy', optimizer=OPTIMIZER, metrics=['accuracy'])\n",
    "history = model.fit(X_train, Y_train, batch_size=BATCH_SIZE, epochs=N_EPOCHS, verbose=VERBOSE, validation_split=VALIDATION_SPLIT)"
   ]
  },
  {
   "cell_type": "code",
   "execution_count": 7,
   "metadata": {},
   "outputs": [
    {
     "name": "stdout",
     "output_type": "stream",
     "text": [
      "10000/10000 [==============================] - 0s 47us/step\n",
      "Test score: 0.24093232275545598\n",
      "Test accuracy: 0.9325\n"
     ]
    }
   ],
   "source": [
    "score = model.evaluate(X_test, Y_test, verbose=VERBOSE)\n",
    "print(\"Test score:\", score[0])\n",
    "print('Test accuracy:', score[1])"
   ]
  },
  {
   "cell_type": "code",
   "execution_count": null,
   "metadata": {},
   "outputs": [],
   "source": []
  }
 ],
 "metadata": {
  "kernelspec": {
   "display_name": "Python 3",
   "language": "python",
   "name": "python3"
  },
  "language_info": {
   "codemirror_mode": {
    "name": "ipython",
    "version": 3
   },
   "file_extension": ".py",
   "mimetype": "text/x-python",
   "name": "python",
   "nbconvert_exporter": "python",
   "pygments_lexer": "ipython3",
   "version": "3.6.4"
  }
 },
 "nbformat": 4,
 "nbformat_minor": 2
}
