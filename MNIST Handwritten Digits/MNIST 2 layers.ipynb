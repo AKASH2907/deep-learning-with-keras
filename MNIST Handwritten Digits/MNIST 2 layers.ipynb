{
 "cells": [
  {
   "cell_type": "code",
   "execution_count": 1,
   "metadata": {},
   "outputs": [
    {
     "name": "stderr",
     "output_type": "stream",
     "text": [
      "Using TensorFlow backend.\n"
     ]
    }
   ],
   "source": [
    "from __future__ import print_function\n",
    "import numpy as np\n",
    "from keras.datasets import mnist\n",
    "from keras.models import Sequential\n",
    "from keras.layers.core import Dense, Activation\n",
    "from keras.optimizers import SGD\n",
    "from keras.utils import np_utils"
   ]
  },
  {
   "cell_type": "code",
   "execution_count": 2,
   "metadata": {},
   "outputs": [],
   "source": [
    "np.random.seed(1600)"
   ]
  },
  {
   "cell_type": "code",
   "execution_count": 3,
   "metadata": {},
   "outputs": [],
   "source": [
    "N_EPOCHS = 20\n",
    "BATCH_SIZE = 128\n",
    "VERBOSE = 1\n",
    "N_CLASSES = 10 # number of output classes\n",
    "OPTIMIZER = SGD()\n",
    "N_HIDDEN = 128\n",
    "VALIDATION_SPLIT = 0.2"
   ]
  },
  {
   "cell_type": "code",
   "execution_count": 4,
   "metadata": {},
   "outputs": [
    {
     "name": "stdout",
     "output_type": "stream",
     "text": [
      "60000 train samples\n",
      "10000 test samples\n"
     ]
    }
   ],
   "source": [
    "# Splitting of dataset between training and testing\n",
    "(X_train, y_train), (X_test, y_test) = mnist.load_data()\n",
    "\n",
    "#X_train is 60000 rows of 28x28 values --> reshaped in 60000 x 784\n",
    "RESHAPED = 784\n",
    "\n",
    "X_train = X_train.reshape(60000, RESHAPED)\n",
    "X_test = X_test.reshape(10000, RESHAPED)\n",
    "X_train = X_train.astype('float32')\n",
    "X_test = X_test.astype('float32')\n",
    "\n",
    "# normaize the dataset\n",
    "X_train /= 255\n",
    "X_test /= 255\n",
    "print(X_train.shape[0], 'train samples')\n",
    "print(X_test.shape[0], 'test samples')\n",
    "\n",
    "# convert class vectors to binary class matrices\n",
    "Y_train = np_utils.to_categorical(y_train, N_CLASSES)\n",
    "Y_test = np_utils.to_categorical(y_test, N_CLASSES)"
   ]
  },
  {
   "cell_type": "code",
   "execution_count": 7,
   "metadata": {},
   "outputs": [
    {
     "name": "stdout",
     "output_type": "stream",
     "text": [
      "_________________________________________________________________\n",
      "Layer (type)                 Output Shape              Param #   \n",
      "=================================================================\n",
      "dense_3 (Dense)              (None, 128)               100480    \n",
      "_________________________________________________________________\n",
      "activation_4 (Activation)    (None, 128)               0         \n",
      "_________________________________________________________________\n",
      "dense_4 (Dense)              (None, 10)                1290      \n",
      "_________________________________________________________________\n",
      "activation_5 (Activation)    (None, 10)                0         \n",
      "_________________________________________________________________\n",
      "activation_6 (Activation)    (None, 10)                0         \n",
      "=================================================================\n",
      "Total params: 101,770\n",
      "Trainable params: 101,770\n",
      "Non-trainable params: 0\n",
      "_________________________________________________________________\n"
     ]
    }
   ],
   "source": [
    "model = Sequential()\n",
    "model.add(Dense(N_HIDDEN, input_shape= (RESHAPED,)))\n",
    "model.add(Activation('relu'))\n",
    "model.add(Dense(N_CLASSES))\n",
    "model.add(Activation('relu'))\n",
    "model.add(Activation('softmax'))\n",
    "model.summary()"
   ]
  },
  {
   "cell_type": "code",
   "execution_count": 8,
   "metadata": {},
   "outputs": [
    {
     "name": "stdout",
     "output_type": "stream",
     "text": [
      "Train on 48000 samples, validate on 12000 samples\n",
      "Epoch 1/20\n",
      "48000/48000 [==============================] - 2s 51us/step - loss: 1.3781 - acc: 0.6627 - val_loss: 0.7694 - val_acc: 0.8407\n",
      "Epoch 2/20\n",
      "48000/48000 [==============================] - 2s 38us/step - loss: 0.6497 - acc: 0.8455 - val_loss: 0.5089 - val_acc: 0.8749\n",
      "Epoch 3/20\n",
      "48000/48000 [==============================] - 2s 42us/step - loss: 0.4973 - acc: 0.8708 - val_loss: 0.4249 - val_acc: 0.8888\n",
      "Epoch 4/20\n",
      "48000/48000 [==============================] - 2s 40us/step - loss: 0.4333 - acc: 0.8838 - val_loss: 0.3831 - val_acc: 0.8952\n",
      "Epoch 5/20\n",
      "48000/48000 [==============================] - 2s 37us/step - loss: 0.3964 - acc: 0.8916 - val_loss: 0.3562 - val_acc: 0.9034\n",
      "Epoch 6/20\n",
      "48000/48000 [==============================] - 2s 36us/step - loss: 0.3716 - acc: 0.8973 - val_loss: 0.3380 - val_acc: 0.9068\n",
      "Epoch 7/20\n",
      "48000/48000 [==============================] - 2s 36us/step - loss: 0.3533 - acc: 0.9017 - val_loss: 0.3234 - val_acc: 0.9090\n",
      "Epoch 8/20\n",
      "48000/48000 [==============================] - 2s 38us/step - loss: 0.3388 - acc: 0.9056 - val_loss: 0.3119 - val_acc: 0.9120\n",
      "Epoch 9/20\n",
      "48000/48000 [==============================] - 2s 37us/step - loss: 0.3268 - acc: 0.9084 - val_loss: 0.3022 - val_acc: 0.9148\n",
      "Epoch 10/20\n",
      "48000/48000 [==============================] - 2s 37us/step - loss: 0.3164 - acc: 0.9113 - val_loss: 0.2944 - val_acc: 0.9177\n",
      "Epoch 11/20\n",
      "48000/48000 [==============================] - 2s 36us/step - loss: 0.3072 - acc: 0.9139 - val_loss: 0.2869 - val_acc: 0.9195\n",
      "Epoch 12/20\n",
      "48000/48000 [==============================] - 2s 40us/step - loss: 0.2991 - acc: 0.9156 - val_loss: 0.2802 - val_acc: 0.9218\n",
      "Epoch 13/20\n",
      "48000/48000 [==============================] - 2s 37us/step - loss: 0.2915 - acc: 0.9180 - val_loss: 0.2743 - val_acc: 0.9237\n",
      "Epoch 14/20\n",
      "48000/48000 [==============================] - 2s 45us/step - loss: 0.2846 - acc: 0.9206 - val_loss: 0.2686 - val_acc: 0.9248\n",
      "Epoch 15/20\n",
      "48000/48000 [==============================] - 2s 36us/step - loss: 0.2782 - acc: 0.9224 - val_loss: 0.2637 - val_acc: 0.9256\n",
      "Epoch 16/20\n",
      "48000/48000 [==============================] - 2s 37us/step - loss: 0.2722 - acc: 0.9237 - val_loss: 0.2583 - val_acc: 0.9278\n",
      "Epoch 17/20\n",
      "48000/48000 [==============================] - 2s 37us/step - loss: 0.2666 - acc: 0.9257 - val_loss: 0.2540 - val_acc: 0.9286\n",
      "Epoch 18/20\n",
      "48000/48000 [==============================] - 2s 37us/step - loss: 0.2612 - acc: 0.9271 - val_loss: 0.2501 - val_acc: 0.9299\n",
      "Epoch 19/20\n",
      "48000/48000 [==============================] - 2s 40us/step - loss: 0.2562 - acc: 0.9287 - val_loss: 0.2458 - val_acc: 0.9314\n",
      "Epoch 20/20\n",
      "48000/48000 [==============================] - 2s 36us/step - loss: 0.2515 - acc: 0.9303 - val_loss: 0.2418 - val_acc: 0.9324\n"
     ]
    }
   ],
   "source": [
    "model.compile(loss='categorical_crossentropy', optimizer=OPTIMIZER, metrics=['accuracy'])\n",
    "history = model.fit(X_train, Y_train, batch_size=BATCH_SIZE, epochs=N_EPOCHS, verbose=VERBOSE, validation_split=VALIDATION_SPLIT)"
   ]
  },
  {
   "cell_type": "code",
   "execution_count": 9,
   "metadata": {},
   "outputs": [
    {
     "name": "stdout",
     "output_type": "stream",
     "text": [
      "10000/10000 [==============================] - 0s 44us/step\n",
      "Test score: 0.24169058722853662\n",
      "Test accuracy: 0.9328\n"
     ]
    }
   ],
   "source": [
    "score = model.evaluate(X_test, Y_test, verbose=VERBOSE)\n",
    "print(\"Test score:\", score[0])\n",
    "print('Test accuracy:', score[1])"
   ]
  },
  {
   "cell_type": "code",
   "execution_count": null,
   "metadata": {},
   "outputs": [],
   "source": []
  }
 ],
 "metadata": {
  "kernelspec": {
   "display_name": "Python 3",
   "language": "python",
   "name": "python3"
  },
  "language_info": {
   "codemirror_mode": {
    "name": "ipython",
    "version": 3
   },
   "file_extension": ".py",
   "mimetype": "text/x-python",
   "name": "python",
   "nbconvert_exporter": "python",
   "pygments_lexer": "ipython3",
   "version": "3.6.4"
  }
 },
 "nbformat": 4,
 "nbformat_minor": 2
}
