{
 "cells": [
  {
   "cell_type": "code",
   "execution_count": 1,
   "metadata": {},
   "outputs": [
    {
     "name": "stderr",
     "output_type": "stream",
     "text": [
      "Using TensorFlow backend.\n"
     ]
    }
   ],
   "source": [
    "from __future__ import print_function\n",
    "import numpy as np\n",
    "from keras.datasets import mnist\n",
    "from keras.models import Sequential\n",
    "from keras.layers.core import Dense, Activation\n",
    "from keras.optimizers import SGD\n",
    "from keras.utils import np_utils"
   ]
  },
  {
   "cell_type": "code",
   "execution_count": 2,
   "metadata": {},
   "outputs": [],
   "source": [
    "np.random.seed(1600)"
   ]
  },
  {
   "cell_type": "code",
   "execution_count": 3,
   "metadata": {},
   "outputs": [],
   "source": [
    "N_EPOCHS = 20\n",
    "BATCH_SIZE = 128\n",
    "VERBOSE = 1\n",
    "N_CLASSES = 10 # number of output classes\n",
    "OPTIMIZER = SGD()\n",
    "N_HIDDEN = 128\n",
    "VALIDATION_SPLIT = 0.2"
   ]
  },
  {
   "cell_type": "code",
   "execution_count": 4,
   "metadata": {},
   "outputs": [
    {
     "name": "stdout",
     "output_type": "stream",
     "text": [
      "60000 train samples\n",
      "10000 test samples\n"
     ]
    }
   ],
   "source": [
    "# Splitting of dataset between training and testing\n",
    "(X_train, y_train), (X_test, y_test) = mnist.load_data()\n",
    "\n",
    "#X_train is 60000 rows of 28x28 values --> reshaped in 60000 x 784\n",
    "RESHAPED = 784\n",
    "\n",
    "X_train = X_train.reshape(60000, RESHAPED)\n",
    "X_test = X_test.reshape(10000, RESHAPED)\n",
    "X_train = X_train.astype('float32')\n",
    "X_test = X_test.astype('float32')\n",
    "\n",
    "# normaize the dataset\n",
    "X_train /= 255\n",
    "X_test /= 255\n",
    "print(X_train.shape[0], 'train samples')\n",
    "print(X_test.shape[0], 'test samples')\n",
    "\n",
    "# convert class vectors to binary class matrices\n",
    "Y_train = np_utils.to_categorical(y_train, N_CLASSES)\n",
    "Y_test = np_utils.to_categorical(y_test, N_CLASSES)"
   ]
  },
  {
   "cell_type": "code",
   "execution_count": 5,
   "metadata": {},
   "outputs": [
    {
     "name": "stdout",
     "output_type": "stream",
     "text": [
      "_________________________________________________________________\n",
      "Layer (type)                 Output Shape              Param #   \n",
      "=================================================================\n",
      "dense_1 (Dense)              (None, 128)               100480    \n",
      "_________________________________________________________________\n",
      "activation_1 (Activation)    (None, 128)               0         \n",
      "_________________________________________________________________\n",
      "dense_2 (Dense)              (None, 10)                1290      \n",
      "_________________________________________________________________\n",
      "activation_2 (Activation)    (None, 10)                0         \n",
      "_________________________________________________________________\n",
      "activation_3 (Activation)    (None, 10)                0         \n",
      "=================================================================\n",
      "Total params: 101,770\n",
      "Trainable params: 101,770\n",
      "Non-trainable params: 0\n",
      "_________________________________________________________________\n"
     ]
    }
   ],
   "source": [
    "model = Sequential()\n",
    "model.add(Dense(N_HIDDEN, input_shape= (RESHAPED,)))\n",
    "model.add(Activation('relu'))\n",
    "model.add(Dense(N_CLASSES))\n",
    "model.add(Activation('relu'))\n",
    "model.add(Activation('softmax'))\n",
    "model.summary()"
   ]
  },
  {
   "cell_type": "code",
   "execution_count": 12,
   "metadata": {},
   "outputs": [
    {
     "name": "stdout",
     "output_type": "stream",
     "text": [
      "Train on 48000 samples, validate on 12000 samples\n",
      "Epoch 1/20\n",
      "48000/48000 [==============================] - 2s 39us/step - loss: 0.1803 - acc: 0.9492 - val_loss: 0.1825 - val_acc: 0.9494\n",
      "Epoch 2/20\n",
      "48000/48000 [==============================] - 2s 40us/step - loss: 0.1780 - acc: 0.9497 - val_loss: 0.1805 - val_acc: 0.9506\n",
      "Epoch 3/20\n",
      "48000/48000 [==============================] - 2s 36us/step - loss: 0.1757 - acc: 0.9509 - val_loss: 0.1788 - val_acc: 0.9508\n",
      "Epoch 4/20\n",
      "48000/48000 [==============================] - 2s 39us/step - loss: 0.1735 - acc: 0.9512 - val_loss: 0.1769 - val_acc: 0.9515\n",
      "Epoch 5/20\n",
      "48000/48000 [==============================] - 2s 36us/step - loss: 0.1714 - acc: 0.9517 - val_loss: 0.1758 - val_acc: 0.9520\n",
      "Epoch 6/20\n",
      "48000/48000 [==============================] - 2s 37us/step - loss: 0.1692 - acc: 0.9524 - val_loss: 0.1740 - val_acc: 0.9525\n",
      "Epoch 7/20\n",
      "48000/48000 [==============================] - 2s 40us/step - loss: 0.1672 - acc: 0.9532 - val_loss: 0.1723 - val_acc: 0.9531\n",
      "Epoch 8/20\n",
      "48000/48000 [==============================] - 2s 40us/step - loss: 0.1650 - acc: 0.9540 - val_loss: 0.1706 - val_acc: 0.9537\n",
      "Epoch 9/20\n",
      "48000/48000 [==============================] - 2s 39us/step - loss: 0.1632 - acc: 0.9546 - val_loss: 0.1689 - val_acc: 0.9543\n",
      "Epoch 10/20\n",
      "48000/48000 [==============================] - 2s 38us/step - loss: 0.1612 - acc: 0.9551 - val_loss: 0.1672 - val_acc: 0.9539\n",
      "Epoch 11/20\n",
      "48000/48000 [==============================] - 2s 40us/step - loss: 0.1594 - acc: 0.9558 - val_loss: 0.1660 - val_acc: 0.9543\n",
      "Epoch 12/20\n",
      "48000/48000 [==============================] - 2s 42us/step - loss: 0.1576 - acc: 0.9558 - val_loss: 0.1645 - val_acc: 0.9549\n",
      "Epoch 13/20\n",
      "48000/48000 [==============================] - 2s 37us/step - loss: 0.1557 - acc: 0.9567 - val_loss: 0.1632 - val_acc: 0.9553\n",
      "Epoch 14/20\n",
      "48000/48000 [==============================] - 2s 37us/step - loss: 0.1539 - acc: 0.9574 - val_loss: 0.1617 - val_acc: 0.9554\n",
      "Epoch 15/20\n",
      "48000/48000 [==============================] - 2s 36us/step - loss: 0.1521 - acc: 0.9579 - val_loss: 0.1605 - val_acc: 0.9564\n",
      "Epoch 16/20\n",
      "48000/48000 [==============================] - 2s 41us/step - loss: 0.1505 - acc: 0.9582 - val_loss: 0.1593 - val_acc: 0.9568\n",
      "Epoch 17/20\n",
      "48000/48000 [==============================] - 2s 37us/step - loss: 0.1488 - acc: 0.9587 - val_loss: 0.1583 - val_acc: 0.9562\n",
      "Epoch 18/20\n",
      "48000/48000 [==============================] - 2s 38us/step - loss: 0.1474 - acc: 0.9589 - val_loss: 0.1567 - val_acc: 0.9568\n",
      "Epoch 19/20\n",
      "48000/48000 [==============================] - 2s 40us/step - loss: 0.1457 - acc: 0.9598 - val_loss: 0.1556 - val_acc: 0.9568\n",
      "Epoch 20/20\n",
      "48000/48000 [==============================] - 2s 50us/step - loss: 0.1441 - acc: 0.9601 - val_loss: 0.1541 - val_acc: 0.9568\n"
     ]
    }
   ],
   "source": [
    "from keras.callbacks import EarlyStopping, TensorBoard, ModelCheckpoint\n",
    "from time import time\n",
    "# early_stopper = \n",
    "# tensorboard = TensorBoard(write_images=True, write_graph=True)\n",
    "tensorboard = TensorBoard(log_dir=\"logs/{}\".format(time()))\n",
    "\n",
    "callback = [tensorboard]\n",
    "model.compile(loss='categorical_crossentropy', optimizer=OPTIMIZER, metrics=['accuracy'])\n",
    "history = model.fit(X_train, Y_train, batch_size=BATCH_SIZE, epochs=N_EPOCHS, verbose=VERBOSE, validation_split=VALIDATION_SPLIT, callbacks=callback)"
   ]
  },
  {
   "cell_type": "code",
   "execution_count": 10,
   "metadata": {},
   "outputs": [
    {
     "name": "stdout",
     "output_type": "stream",
     "text": [
      "10000/10000 [==============================] - 0s 43us/step\n",
      "Test score: 0.24118195615410803\n",
      "Test accuracy: 0.9322\n"
     ]
    }
   ],
   "source": [
    "score = model.evaluate(X_test, Y_test, verbose=VERBOSE)\n",
    "print(\"Test score:\", score[0])\n",
    "print('Test accuracy:', score[1])"
   ]
  },
  {
   "cell_type": "code",
   "execution_count": null,
   "metadata": {},
   "outputs": [],
   "source": []
  }
 ],
 "metadata": {
  "kernelspec": {
   "display_name": "Python 3",
   "language": "python",
   "name": "python3"
  },
  "language_info": {
   "codemirror_mode": {
    "name": "ipython",
    "version": 3
   },
   "file_extension": ".py",
   "mimetype": "text/x-python",
   "name": "python",
   "nbconvert_exporter": "python",
   "pygments_lexer": "ipython3",
   "version": "3.6.4"
  }
 },
 "nbformat": 4,
 "nbformat_minor": 2
}
