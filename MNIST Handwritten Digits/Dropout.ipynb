{
 "cells": [
  {
   "cell_type": "code",
   "execution_count": 1,
   "metadata": {},
   "outputs": [
    {
     "name": "stderr",
     "output_type": "stream",
     "text": [
      "Using TensorFlow backend.\n"
     ]
    }
   ],
   "source": [
    "from __future__ import print_function\n",
    "import numpy as np\n",
    "from keras.datasets import mnist\n",
    "from keras.models import Sequential\n",
    "from keras.layers.core import Dense, Activation, Dropout\n",
    "from keras.optimizers import SGD\n",
    "from keras.utils import np_utils"
   ]
  },
  {
   "cell_type": "code",
   "execution_count": 2,
   "metadata": {},
   "outputs": [],
   "source": [
    "np.random.seed(1600)"
   ]
  },
  {
   "cell_type": "code",
   "execution_count": 3,
   "metadata": {},
   "outputs": [],
   "source": [
    "N_EPOCHS = 20\n",
    "BATCH_SIZE = 128\n",
    "VERBOSE = 1\n",
    "N_CLASSES = 10 # number of output classes\n",
    "OPTIMIZER = SGD()\n",
    "N_HIDDEN = 128\n",
    "VALIDATION_SPLIT = 0.2\n",
    "DROPOUT = 0.5"
   ]
  },
  {
   "cell_type": "code",
   "execution_count": 4,
   "metadata": {},
   "outputs": [
    {
     "name": "stdout",
     "output_type": "stream",
     "text": [
      "60000 train samples\n",
      "10000 test samples\n"
     ]
    }
   ],
   "source": [
    "# Splitting of dataset between training and testing\n",
    "(X_train, y_train), (X_test, y_test) = mnist.load_data()\n",
    "\n",
    "#X_train is 60000 rows of 28x28 values --> reshaped in 60000 x 784\n",
    "RESHAPED = 784\n",
    "\n",
    "X_train = X_train.reshape(60000, RESHAPED)\n",
    "X_test = X_test.reshape(10000, RESHAPED)\n",
    "X_train = X_train.astype('float32')\n",
    "X_test = X_test.astype('float32')\n",
    "\n",
    "# normaize the dataset\n",
    "X_train /= 255\n",
    "X_test /= 255\n",
    "print(X_train.shape[0], 'train samples')\n",
    "print(X_test.shape[0], 'test samples')\n",
    "\n",
    "# convert class vectors to binary class matrices\n",
    "Y_train = np_utils.to_categorical(y_train, N_CLASSES)\n",
    "Y_test = np_utils.to_categorical(y_test, N_CLASSES)"
   ]
  },
  {
   "cell_type": "code",
   "execution_count": 8,
   "metadata": {},
   "outputs": [
    {
     "name": "stdout",
     "output_type": "stream",
     "text": [
      "_________________________________________________________________\n",
      "Layer (type)                 Output Shape              Param #   \n",
      "=================================================================\n",
      "dense_5 (Dense)              (None, 128)               100480    \n",
      "_________________________________________________________________\n",
      "activation_4 (Activation)    (None, 128)               0         \n",
      "_________________________________________________________________\n",
      "dropout_4 (Dropout)          (None, 128)               0         \n",
      "_________________________________________________________________\n",
      "dense_6 (Dense)              (None, 128)               16512     \n",
      "_________________________________________________________________\n",
      "activation_5 (Activation)    (None, 128)               0         \n",
      "_________________________________________________________________\n",
      "dropout_5 (Dropout)          (None, 128)               0         \n",
      "_________________________________________________________________\n",
      "dense_7 (Dense)              (None, 10)                1290      \n",
      "_________________________________________________________________\n",
      "activation_6 (Activation)    (None, 10)                0         \n",
      "_________________________________________________________________\n",
      "activation_7 (Activation)    (None, 10)                0         \n",
      "=================================================================\n",
      "Total params: 118,282\n",
      "Trainable params: 118,282\n",
      "Non-trainable params: 0\n",
      "_________________________________________________________________\n"
     ]
    }
   ],
   "source": [
    "model = Sequential()\n",
    "model.add(Dense(N_HIDDEN, input_shape= (RESHAPED,)))\n",
    "model.add(Activation('relu'))\n",
    "model.add(Dropout(DROPOUT))\n",
    "model.add(Dense(N_HIDDEN))\n",
    "model.add(Activation('relu'))\n",
    "model.add(Dropout(DROPOUT))\n",
    "model.add(Dense(N_CLASSES))\n",
    "model.add(Activation('relu'))\n",
    "model.add(Activation('softmax'))\n",
    "model.summary()"
   ]
  },
  {
   "cell_type": "code",
   "execution_count": 9,
   "metadata": {},
   "outputs": [
    {
     "name": "stdout",
     "output_type": "stream",
     "text": [
      "Train on 48000 samples, validate on 12000 samples\n",
      "Epoch 1/20\n",
      "48000/48000 [==============================] - 3s 70us/step - loss: 2.1419 - acc: 0.2487 - val_loss: 1.5883 - val_acc: 0.6903\n",
      "Epoch 2/20\n",
      "48000/48000 [==============================] - 2s 43us/step - loss: 1.4842 - acc: 0.5317 - val_loss: 0.8489 - val_acc: 0.7854\n",
      "Epoch 3/20\n",
      "48000/48000 [==============================] - 2s 51us/step - loss: 1.0726 - acc: 0.6547 - val_loss: 0.6008 - val_acc: 0.8465\n",
      "Epoch 4/20\n",
      "48000/48000 [==============================] - 2s 46us/step - loss: 0.8788 - acc: 0.7210 - val_loss: 0.4915 - val_acc: 0.8748\n",
      "Epoch 5/20\n",
      "48000/48000 [==============================] - 2s 50us/step - loss: 0.7765 - acc: 0.7566 - val_loss: 0.4321 - val_acc: 0.8865\n",
      "Epoch 6/20\n",
      "48000/48000 [==============================] - 2s 42us/step - loss: 0.7011 - acc: 0.7833 - val_loss: 0.3919 - val_acc: 0.8943\n",
      "Epoch 7/20\n",
      "48000/48000 [==============================] - 2s 49us/step - loss: 0.6521 - acc: 0.8035 - val_loss: 0.3610 - val_acc: 0.9010\n",
      "Epoch 8/20\n",
      "48000/48000 [==============================] - 2s 50us/step - loss: 0.6044 - acc: 0.8177 - val_loss: 0.3374 - val_acc: 0.9053\n",
      "Epoch 9/20\n",
      "48000/48000 [==============================] - 3s 57us/step - loss: 0.5696 - acc: 0.8307 - val_loss: 0.3200 - val_acc: 0.9107\n",
      "Epoch 10/20\n",
      "48000/48000 [==============================] - 2s 48us/step - loss: 0.5387 - acc: 0.8390 - val_loss: 0.3042 - val_acc: 0.9141\n",
      "Epoch 11/20\n",
      "48000/48000 [==============================] - 2s 42us/step - loss: 0.5185 - acc: 0.8470 - val_loss: 0.2922 - val_acc: 0.9157\n",
      "Epoch 12/20\n",
      "48000/48000 [==============================] - 2s 51us/step - loss: 0.4969 - acc: 0.8534 - val_loss: 0.2817 - val_acc: 0.9180\n",
      "Epoch 13/20\n",
      "48000/48000 [==============================] - 2s 51us/step - loss: 0.4783 - acc: 0.8595 - val_loss: 0.2715 - val_acc: 0.9223\n",
      "Epoch 14/20\n",
      "48000/48000 [==============================] - 3s 52us/step - loss: 0.4668 - acc: 0.8650 - val_loss: 0.2642 - val_acc: 0.9233\n",
      "Epoch 15/20\n",
      "48000/48000 [==============================] - 2s 52us/step - loss: 0.4553 - acc: 0.8670 - val_loss: 0.2552 - val_acc: 0.9257\n",
      "Epoch 16/20\n",
      "48000/48000 [==============================] - 2s 50us/step - loss: 0.4361 - acc: 0.8736 - val_loss: 0.2475 - val_acc: 0.9280\n",
      "Epoch 17/20\n",
      "48000/48000 [==============================] - 2s 42us/step - loss: 0.4243 - acc: 0.8754 - val_loss: 0.2434 - val_acc: 0.9292\n",
      "Epoch 18/20\n",
      "48000/48000 [==============================] - 3s 54us/step - loss: 0.4213 - acc: 0.8781 - val_loss: 0.2356 - val_acc: 0.9311\n",
      "Epoch 19/20\n",
      "48000/48000 [==============================] - 3s 60us/step - loss: 0.4108 - acc: 0.8821 - val_loss: 0.2304 - val_acc: 0.9335\n",
      "Epoch 20/20\n",
      "48000/48000 [==============================] - 2s 46us/step - loss: 0.3979 - acc: 0.8841 - val_loss: 0.2275 - val_acc: 0.9348\n"
     ]
    }
   ],
   "source": [
    "model.compile(loss='categorical_crossentropy', optimizer=OPTIMIZER, metrics=['accuracy'])\n",
    "history = model.fit(X_train, Y_train, batch_size=BATCH_SIZE, epochs=N_EPOCHS, verbose=VERBOSE, validation_split=VALIDATION_SPLIT)"
   ]
  },
  {
   "cell_type": "code",
   "execution_count": 10,
   "metadata": {},
   "outputs": [
    {
     "name": "stdout",
     "output_type": "stream",
     "text": [
      "10000/10000 [==============================] - 1s 53us/step\n",
      "Test score: 0.23138353397548198\n",
      "Test accuracy: 0.9339\n"
     ]
    }
   ],
   "source": [
    "score = model.evaluate(X_test, Y_test, verbose=VERBOSE)\n",
    "print(\"Test score:\", score[0])\n",
    "print('Test accuracy:', score[1])"
   ]
  },
  {
   "cell_type": "code",
   "execution_count": null,
   "metadata": {},
   "outputs": [],
   "source": []
  }
 ],
 "metadata": {
  "kernelspec": {
   "display_name": "Python 3",
   "language": "python",
   "name": "python3"
  },
  "language_info": {
   "codemirror_mode": {
    "name": "ipython",
    "version": 3
   },
   "file_extension": ".py",
   "mimetype": "text/x-python",
   "name": "python",
   "nbconvert_exporter": "python",
   "pygments_lexer": "ipython3",
   "version": "3.6.4"
  }
 },
 "nbformat": 4,
 "nbformat_minor": 2
}
